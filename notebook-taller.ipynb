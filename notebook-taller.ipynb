{
 "cells": [
  {
   "cell_type": "markdown",
   "id": "69be3c2c-2a52-4cfe-b6bf-14a060b99318",
   "metadata": {},
   "source": [
    "## Ejemplo en el taller de UCV -2024"
   ]
  },
  {
   "cell_type": "code",
   "execution_count": 1,
   "id": "e3376689-4908-4e4e-9427-87ca77b37fe2",
   "metadata": {},
   "outputs": [],
   "source": [
    "import numpy as np\n",
    "import matplotlib.pyplot as plt"
   ]
  },
  {
   "cell_type": "markdown",
   "id": "686c4cbb-3268-40b4-a099-30b08306304a",
   "metadata": {},
   "source": [
    "# Generar datos aleatorios (por ejemplo, 1000 valores)"
   ]
  },
  {
   "cell_type": "code",
   "execution_count": 2,
   "id": "e4443e4a-58dd-40a3-b636-249e9389dc33",
   "metadata": {},
   "outputs": [],
   "source": [
    "datos_aleatorios = np.random.normal(loc=10, scale=2, size=1000)"
   ]
  },
  {
   "cell_type": "code",
   "execution_count": 3,
   "id": "f1efd45d-0b68-40a4-8c92-1dc63dab7756",
   "metadata": {},
   "outputs": [
    {
     "data": {
      "text/plain": [
       "Text(0.5, 0, 'Valor')"
      ]
     },
     "execution_count": 3,
     "metadata": {},
     "output_type": "execute_result"
    },
    {
     "data": {
      "image/png": "[encoded data removed]",
      "text/plain": [
       "<Figure size 432x288 with 1 Axes>"
      ]
     },
     "metadata": {
      "needs_background": "light"
     },
     "output_type": "display_data"
    }
   ],
   "source": [
    "# Crear el histograma\n",
    "plt.hist(datos_aleatorios, bins=20, edgecolor='black')\n",
    "plt.xlabel('Valor')\n",
    "plt.ylabel('Frecuencia')\n",
    "plt.xlabel('valor')\n",
    "plt.title('Histograma de Datos Aleatorios')\n",
    "plt.grid(True)\n",
    "plt.show()"
   ]
  },
  {
   "cell_type": "code",
   "execution_count": null,
   "id": "6dcc9a1b-5a55-49d9-95f2-d0933d28ac18",
   "metadata": {},
   "outputs": [],
   "source": []
  }
 ],
 "metadata": {
  "kernelspec": {
   "display_name": "Python 3 (ipykernel)",
   "language": "python",
   "name": "python3"
  },
  "language_info": {
   "codemirror_mode": {
    "name": "ipython",
    "version": 3
   },
   "file_extension": ".py",
   "mimetype": "text/x-python",
   "name": "python",
   "nbconvert_exporter": "python",
   "pygments_lexer": "ipython3",
   "version": "3.9.12"
  }
 },
 "nbformat": 4,
 "nbformat_minor": 5
}
